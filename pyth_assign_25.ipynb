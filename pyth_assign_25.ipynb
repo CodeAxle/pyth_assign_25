{
 "cells": [
  {
   "cell_type": "markdown",
   "id": "25c2c185",
   "metadata": {},
   "source": [
    "# 1."
   ]
  },
  {
   "cell_type": "code",
   "execution_count": 1,
   "id": "196ec25a",
   "metadata": {},
   "outputs": [
    {
     "name": "stdout",
     "output_type": "stream",
     "text": [
      "[1, 4, 9, 16, 25]\n"
     ]
    }
   ],
   "source": [
    "# Diffrence between enclosing and comprehension:\n",
    "\n",
    "# a)Square Brackets ([]): Enclosing a list comprehension in square brackets creates a new list.\n",
    " \n",
    "# example:\n",
    "squares = [x**2 for x in range(1, 6)]\n",
    "print(squares)  # Output: [1, 4, 9, 16, 25]"
   ]
  },
  {
   "cell_type": "code",
   "execution_count": 2,
   "id": "fb743c31",
   "metadata": {},
   "outputs": [
    {
     "name": "stdout",
     "output_type": "stream",
     "text": [
      "<generator object <genexpr> at 0x00000204E95BA4D0>\n",
      "[1, 4, 9, 16, 25]\n"
     ]
    }
   ],
   "source": [
    "# b) Parentheses (()):\n",
    "\n",
    "# i) Enclosing a list comprehension in parentheses creates a generator object, which is a type of iterator.\n",
    "# ii) Generator expressions are evaluated lazily, meaning they produce values one at a time as needed, conserving memory.\n",
    "\n",
    "# example:\n",
    "squares_gen = (x**2 for x in range(1, 6))\n",
    "print(squares_gen)  # Output: <generator object <genexpr> at 0x7f6c0d147b30>\n",
    "print(list(squares_gen))  # Output: [1, 4, 9, 16, 25]"
   ]
  },
  {
   "cell_type": "markdown",
   "id": "66604a1d",
   "metadata": {},
   "source": [
    "# 2."
   ]
  },
  {
   "cell_type": "code",
   "execution_count": 3,
   "id": "4a2ba794",
   "metadata": {},
   "outputs": [],
   "source": [
    "# Generators and iterators are closely related concepts in Python, with generators being a specific type of iterator.\n",
    "\n",
    "# Here's the relationship between them:\n",
    "\n",
    "# a) Iterators:\n",
    "\n",
    "# i) An iterator is an object that implements the iterator protocol, which consists of two methods: __iter__() and __next__().\n",
    "# ii) The __iter__() method returns the iterator object itself.\n",
    "# iii) The __next__() method returns the next item in the sequence and raises StopIteration when there are no more items.\n",
    "# iv) Iterators can be created using iterables such as lists, tuples, sets, dictionaries, strings, etc., by calling the iter()\n",
    "#  function on them.\n",
    "\n",
    "# b) Generators:\n",
    "\n",
    "# i) Generators are a type of iterator that can be created using generator functions or generator expressions.\n",
    "# ii) Generator functions are defined using the def keyword but use yield statements instead of return statements to \n",
    "#  return values one at a time.\n",
    "# iii) Generator expressions are similar to list comprehensions but use parentheses instead of square brackets, creating \n",
    "#  a generator object rather than a list.\n",
    "\n",
    "# c) Relationship:\n",
    "\n",
    "# i) All generators are iterators, but not all iterators are generators.\n",
    "# ii) Generators simplify the creation of iterators by automatically implementing the iterator protocol. They handle the state \n",
    "#  and looping internally, making it easier to work with sequences of data.\n",
    "# iii) Generators are lazy evaluated, meaning they produce values only when requested, which can save memory and improve \n",
    "#  performance compared to eagerly evaluated iterators."
   ]
  },
  {
   "cell_type": "markdown",
   "id": "534500de",
   "metadata": {},
   "source": [
    "# 3."
   ]
  },
  {
   "cell_type": "code",
   "execution_count": 4,
   "id": "3469859a",
   "metadata": {},
   "outputs": [],
   "source": [
    "# A function is considered a generator function if it contains one or more yield statements. \n",
    "\n",
    "# Signs that indicate a function is a generator function:\n",
    "\n",
    "# a) Usage of yield Statements:\n",
    "\n",
    "# i) The primary indicator of a generator function is the presence of yield statements inside the function body.\n",
    "# ii) The yield statement is used to yield values one at a time, suspending the function's execution state until \n",
    "#  the next value is requested.\n",
    "\n",
    "# b) Use of def Keyword with yield:\n",
    "\n",
    "# i) Generator functions are defined using the def keyword, just like regular functions.\n",
    "# ii) However, they use the yield keyword to yield values instead of return.\n",
    "\n",
    "# c) Execution Pauses and Resumes:\n",
    "\n",
    "# i) When a yield statement is encountered in a generator function, it pauses the function's execution and returns \n",
    "#  the yielded value.\n",
    "# ii) The function's state is preserved, allowing it to resume execution from where it left off when the next value \n",
    "#  is requested.\n",
    "\n",
    "# d)Generator Objects:\n",
    "\n",
    "# i) When a generator function is called, it doesn't execute immediately. Instead, it returns a generator object.\n",
    "# ii) Generator objects are iterators that can be iterated over using next() or consumed in a loop.\n",
    "# iii) Each time next() is called on a generator object, the generator function executes until it encounters the next\n",
    "#  yield statement."
   ]
  },
  {
   "cell_type": "markdown",
   "id": "ea6678b9",
   "metadata": {},
   "source": [
    "# 4."
   ]
  },
  {
   "cell_type": "code",
   "execution_count": 5,
   "id": "95954a7c",
   "metadata": {},
   "outputs": [
    {
     "name": "stdout",
     "output_type": "stream",
     "text": [
      "1\n",
      "2\n",
      "3\n",
      "4\n",
      "5\n"
     ]
    }
   ],
   "source": [
    "# The yield statement is a powerful tool in programming languages like Python that allows you to create generators. \n",
    "# Generators are a special type of function that can pause their execution and resume later, all while remembering their state. \n",
    "# This makes them particularly useful for working with large datasets or performing iterative tasks where memory efficiency\n",
    "#  is crucial.\n",
    "\n",
    "# Here's a breakdown of the key aspects of yield:\n",
    "\n",
    "# a) Pausing Execution and Returning Values:\n",
    "\n",
    "# i) When a function encounters a yield statement, its execution is paused.\n",
    "# ii) The function can optionally return a value along with the yield statement. This value becomes available to the code that's \n",
    "#  calling the generator function.\n",
    "\n",
    "# b) Resuming Execution:\n",
    "\n",
    "# i) The paused generator function can be resumed later using a special syntax (typically a next() call in Python).\n",
    "# When resumed, the function picks up execution exactly where it left off after the yield statement.\n",
    "\n",
    "# c) Maintaining State:\n",
    "\n",
    "# Unlike regular functions, generators retain their local variables even after being paused. This allows them to remember their \n",
    "#  state between pauses and resumes.\n",
    "\n",
    "# example:\n",
    "def count_up_to(n):\n",
    "    count = 1\n",
    "    while count <= n:\n",
    "        yield count\n",
    "        count += 1\n",
    "\n",
    "# Create a generator object\n",
    "gen = count_up_to(5)\n",
    "\n",
    "# Iterate over the generator object\n",
    "for num in gen:\n",
    "    print(num)  # Prints numbers 1 to 5"
   ]
  },
  {
   "cell_type": "markdown",
   "id": "72632a0d",
   "metadata": {},
   "source": [
    "# 5."
   ]
  },
  {
   "cell_type": "code",
   "execution_count": 9,
   "id": "2f33d2ca",
   "metadata": {},
   "outputs": [
    {
     "name": "stdout",
     "output_type": "stream",
     "text": [
      "<map object at 0x00000204E956F8B0>\n",
      "[1, 4, 9, 16]\n",
      "[4, 16]\n"
     ]
    }
   ],
   "source": [
    "# Diffrence between mapp calls an list comprehension:\n",
    "\n",
    "# a) Syntax:\n",
    "\n",
    "# i) map: Uses the map function along with a lambda function or a defined function and an iterable as arguments. \n",
    "#  It applies the function to each element of the iterable and returns an iterator.\n",
    "result_1 = map(lambda x: x ** 2, [1, 2, 3, 4])\n",
    "print(result_1) # Print\n",
    "\n",
    "# ii) List Comprehension: Uses a more concise syntax with square brackets [ ] to create lists based on existing iterables \n",
    "#   and optional conditions.\n",
    "result_2 = [x ** 2 for x in [1, 2, 3, 4]]\n",
    "print(result_2) # Print\n",
    "\n",
    "# b) Readability:\n",
    "\n",
    "# i) List Comprehension: Often considered more readable and expressive, especially for simple transformations or \n",
    "#     filtering operations.\n",
    "# ii)map: May be less readable for complex operations, as it requires a separate lambda function or a defined function.\n",
    "\n",
    "# c) Flexibility:\n",
    "\n",
    "# i) List Comprehension: Provides more flexibility and allows for conditional filtering and multiple transformations within a \n",
    "#     single expression.\n",
    "result_3 = [x ** 2 for x in [1, 2, 3, 4] if x % 2 == 0]\n",
    "print(result_3) # Print\n",
    "\n",
    "# ii) map: Primarily designed for applying a function to every element in an iterable, and it doesn't support conditional\n",
    "#   logic directly. Conditional filtering requires additional steps.\n",
    "\n",
    "# d) Return Type:\n",
    "\n",
    "# i) map: Returns a map object or an iterator, which needs to be converted to a list or tuple to view the results explicitly.\n",
    "# ii) List Comprehension: Returns a list directly, making it more convenient to work with the results immediately.\n",
    "\n",
    "# e) Performance:\n",
    "\n",
    "# In terms of performance, map and list comprehensions can be similar in many cases. However, list comprehensions may offer slight performance advantages due to their optimized implementation in Python."
   ]
  },
  {
   "cell_type": "code",
   "execution_count": null,
   "id": "6b75cb74",
   "metadata": {},
   "outputs": [],
   "source": []
  }
 ],
 "metadata": {
  "kernelspec": {
   "display_name": "Python 3 (ipykernel)",
   "language": "python",
   "name": "python3"
  },
  "language_info": {
   "codemirror_mode": {
    "name": "ipython",
    "version": 3
   },
   "file_extension": ".py",
   "mimetype": "text/x-python",
   "name": "python",
   "nbconvert_exporter": "python",
   "pygments_lexer": "ipython3",
   "version": "3.11.5"
  }
 },
 "nbformat": 4,
 "nbformat_minor": 5
}
